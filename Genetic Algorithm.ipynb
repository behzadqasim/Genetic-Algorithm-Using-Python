{
 "cells": [
  {
   "cell_type": "code",
   "execution_count": 236,
   "id": "6da09cba",
   "metadata": {},
   "outputs": [],
   "source": [
    "import random"
   ]
  },
  {
   "cell_type": "code",
   "execution_count": 237,
   "id": "098e4b5c",
   "metadata": {},
   "outputs": [],
   "source": [
    "chrom_size=10\n",
    "choromo=[]\n",
    "for i in range(4):\n",
    "    choromo.append([random.randint (0,1) for i in range(10)])"
   ]
  },
  {
   "cell_type": "code",
   "execution_count": 238,
   "id": "1c2d56c3",
   "metadata": {},
   "outputs": [
    {
     "data": {
      "text/plain": [
       "[[1, 1, 1, 0, 1, 0, 0, 1, 0, 0],\n",
       " [1, 1, 1, 0, 1, 1, 0, 1, 0, 1],\n",
       " [0, 1, 1, 0, 0, 1, 1, 1, 0, 0],\n",
       " [1, 1, 1, 1, 0, 1, 0, 0, 1, 0]]"
      ]
     },
     "execution_count": 238,
     "metadata": {},
     "output_type": "execute_result"
    }
   ],
   "source": [
    "choromo"
   ]
  },
  {
   "cell_type": "code",
   "execution_count": 239,
   "id": "7a99e047",
   "metadata": {},
   "outputs": [
    {
     "data": {
      "text/plain": [
       "[([1, 1, 1, 0, 1, 0, 0, 1, 0, 0], 5),\n",
       " ([1, 1, 1, 0, 1, 1, 0, 1, 0, 1], 7),\n",
       " ([0, 1, 1, 0, 0, 1, 1, 1, 0, 0], 5),\n",
       " ([1, 1, 1, 1, 0, 1, 0, 0, 1, 0], 6)]"
      ]
     },
     "execution_count": 239,
     "metadata": {},
     "output_type": "execute_result"
    }
   ],
   "source": [
    "def fitness(choromo):\n",
    "    chorom=[]\n",
    "    for i in choromo:\n",
    "        su=sum(i)\n",
    "        chorom.append((i,su))\n",
    "    return chorom\n",
    "chorom=fitness(choromo)\n",
    "chorom"
   ]
  },
  {
   "cell_type": "code",
   "execution_count": 240,
   "id": "e18b664d",
   "metadata": {},
   "outputs": [
    {
     "data": {
      "text/plain": [
       "[([1, 1, 1, 0, 1, 1, 0, 1, 0, 1], 7),\n",
       " ([1, 1, 1, 1, 0, 1, 0, 0, 1, 0], 6),\n",
       " ([1, 1, 1, 0, 1, 0, 0, 1, 0, 0], 5),\n",
       " ([0, 1, 1, 0, 0, 1, 1, 1, 0, 0], 5)]"
      ]
     },
     "execution_count": 240,
     "metadata": {},
     "output_type": "execute_result"
    }
   ],
   "source": [
    "chorom=sorted(chorom,key=lambda i:i[1],reverse=True)\n",
    "chorom"
   ]
  },
  {
   "cell_type": "code",
   "execution_count": 241,
   "id": "3aee4eaa",
   "metadata": {},
   "outputs": [
    {
     "data": {
      "text/plain": [
       "[[1, 1, 1, 0, 1, 1, 0, 1, 0, 1],\n",
       " [1, 1, 1, 1, 0, 1, 0, 0, 1, 0],\n",
       " [1, 1, 1, 0, 1, 1, 0, 0, 1, 0],\n",
       " [1, 1, 1, 1, 0, 1, 0, 1, 0, 1],\n",
       " [1, 1, 1, 0, 1, 0, 0, 1, 0, 0],\n",
       " [0, 1, 1, 0, 0, 1, 1, 1, 0, 0],\n",
       " [1, 1, 1, 0, 1, 1, 1, 1, 0, 0],\n",
       " [0, 1, 1, 0, 0, 0, 0, 1, 0, 0]]"
      ]
     },
     "execution_count": 241,
     "metadata": {},
     "output_type": "execute_result"
    }
   ],
   "source": [
    "split=5\n",
    "def crossover(chorom):\n",
    "    crossover_list=[]\n",
    "    for i in range(0,len(chorom),2):\n",
    "        p1, fitnes= chorom[i]\n",
    "        p2, fitnes = chorom[i+1]\n",
    "\n",
    "        c1  = p1[:split]+p2[split:]\n",
    "        c2 =  p2[:split]+p1[split:]\n",
    "\n",
    "        crossover_list.append(p1)\n",
    "        crossover_list.append(p2)\n",
    "        crossover_list.append(c1)\n",
    "        crossover_list.append(c2)\n",
    "    return crossover_list\n",
    "crossover_list=crossover(chorom)\n",
    "crossover_list"
   ]
  },
  {
   "cell_type": "code",
   "execution_count": 242,
   "id": "8e8f7304",
   "metadata": {},
   "outputs": [
    {
     "data": {
      "text/plain": [
       "[([1, 1, 1, 0, 1, 1, 0, 1, 0, 1], 7),\n",
       " ([1, 1, 1, 1, 0, 1, 0, 0, 1, 0], 6),\n",
       " ([1, 1, 1, 0, 1, 1, 0, 0, 1, 0], 6),\n",
       " ([1, 1, 1, 1, 0, 1, 0, 1, 0, 1], 7),\n",
       " ([1, 1, 1, 0, 1, 0, 0, 1, 0, 0], 5),\n",
       " ([0, 1, 1, 0, 0, 1, 1, 1, 0, 0], 5),\n",
       " ([1, 1, 1, 0, 1, 1, 1, 1, 0, 0], 7),\n",
       " ([0, 1, 1, 0, 0, 0, 0, 1, 0, 0], 3)]"
      ]
     },
     "execution_count": 242,
     "metadata": {},
     "output_type": "execute_result"
    }
   ],
   "source": [
    "chorom=fitness(crossover_list)\n",
    "chorom"
   ]
  },
  {
   "cell_type": "code",
   "execution_count": 243,
   "id": "d479259b",
   "metadata": {},
   "outputs": [],
   "source": [
    "def mutation(chorom):\n",
    "    mutation_list =[]\n",
    "    for i,j in chorom:\n",
    "        index = random.randint(0,9)\n",
    "        if i[index] == 0:\n",
    "            i[index] = 1\n",
    "        elif i[index] == 1:\n",
    "            i[index] = 0\n",
    "        mutation_list.append(i)\n",
    "    \n",
    "    return mutation_list"
   ]
  },
  {
   "cell_type": "code",
   "execution_count": 244,
   "id": "da40539c",
   "metadata": {},
   "outputs": [],
   "source": [
    "mutation_list=mutation(chorom)"
   ]
  },
  {
   "cell_type": "code",
   "execution_count": 245,
   "id": "68861035",
   "metadata": {},
   "outputs": [
    {
     "data": {
      "text/plain": [
       "[([1, 1, 1, 0, 1, 1, 1, 1, 0, 1], 8),\n",
       " ([1, 0, 1, 1, 0, 1, 0, 0, 1, 0], 5),\n",
       " ([1, 1, 1, 0, 0, 1, 0, 0, 1, 0], 5),\n",
       " ([1, 1, 1, 1, 0, 1, 0, 1, 0, 0], 6),\n",
       " ([0, 1, 1, 0, 1, 0, 0, 1, 0, 0], 4),\n",
       " ([0, 1, 1, 0, 0, 1, 0, 1, 0, 0], 4),\n",
       " ([1, 1, 1, 1, 1, 1, 1, 1, 0, 0], 8),\n",
       " ([0, 0, 1, 0, 0, 0, 0, 1, 0, 0], 2)]"
      ]
     },
     "execution_count": 245,
     "metadata": {},
     "output_type": "execute_result"
    }
   ],
   "source": [
    "chorom=fitness(mutation_list)\n",
    "chorom"
   ]
  },
  {
   "cell_type": "code",
   "execution_count": 246,
   "id": "5208ed4c",
   "metadata": {},
   "outputs": [],
   "source": [
    "chorom=sorted(chorom,key=lambda i:i[1],reverse=True)"
   ]
  },
  {
   "cell_type": "code",
   "execution_count": 250,
   "id": "a66391aa",
   "metadata": {},
   "outputs": [
    {
     "name": "stdout",
     "output_type": "stream",
     "text": [
      "[1, 0, 1, 1, 0, 0, 1, 1, 0, 0]\n"
     ]
    }
   ],
   "source": [
    "Target_chromosome = [1, 0, 1, 1, 0, 0, 1, 1, 0, 0]\n",
    "flag=False\n",
    "while flag!=True:\n",
    "    for i in choromo:\n",
    "        if i==Target_chromosome:\n",
    "            print(i)\n",
    "            flag=True\n",
    "            break\n",
    "    chorom=fitness(choromo)\n",
    "    chorom=sorted(chorom,key=lambda i:i[1],reverse=True)\n",
    "    crossover_list=crossover(chorom)\n",
    "    chorom=fitness(crossover_list)\n",
    "    mutation_list=mutation(chorom)\n",
    "    chorom=fitness(mutation_list)\n",
    "    chorom=sorted(chorom,key=lambda i:i[1],reverse=True)\n",
    "    choromo=list(map(lambda k:k[0],chorom[:4]))"
   ]
  },
  {
   "cell_type": "code",
   "execution_count": null,
   "id": "264d4a1a",
   "metadata": {},
   "outputs": [],
   "source": []
  }
 ],
 "metadata": {
  "kernelspec": {
   "display_name": "Python 3",
   "language": "python",
   "name": "python3"
  },
  "language_info": {
   "codemirror_mode": {
    "name": "ipython",
    "version": 3
   },
   "file_extension": ".py",
   "mimetype": "text/x-python",
   "name": "python",
   "nbconvert_exporter": "python",
   "pygments_lexer": "ipython3",
   "version": "3.8.8"
  }
 },
 "nbformat": 4,
 "nbformat_minor": 5
}
